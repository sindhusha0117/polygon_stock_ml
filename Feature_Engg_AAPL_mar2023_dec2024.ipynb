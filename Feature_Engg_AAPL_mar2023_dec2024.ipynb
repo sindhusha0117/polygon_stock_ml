{
 "cells": [
  {
   "cell_type": "code",
   "execution_count": 5,
   "id": "5231c24f-8dfd-401d-98df-c4362aa2299c",
   "metadata": {},
   "outputs": [
    {
     "name": "stdout",
     "output_type": "stream",
     "text": [
      "   Unnamed: 0      Volume      VWAP    Open   Close      High     Low  \\\n",
      "0           0  73938285.0  158.3406  157.32  159.28  159.4000  156.54   \n",
      "1           1  75349311.0  159.6832  159.30  157.83  162.1400  157.81   \n",
      "2           2  67482060.0  159.5685  158.83  158.93  161.5501  157.68   \n",
      "3           3  59006343.0  159.2417  158.86  160.25  160.3400  157.85   \n",
      "4           4  52390266.0  159.0188  159.94  158.28  160.7700  157.87   \n",
      "\n",
      "   Num_Transactions            Timestamp  Close_Lag_1  Close_Lag_2  \\\n",
      "0            590982  2023-03-21 04:00:00          NaN          NaN   \n",
      "1            656865  2023-03-22 04:00:00       159.28          NaN   \n",
      "2            614268  2023-03-23 04:00:00       157.83       159.28   \n",
      "3            517531  2023-03-24 04:00:00       158.93       157.83   \n",
      "4            518436  2023-03-27 04:00:00       160.25       158.93   \n",
      "\n",
      "   Volume_Lag_1  \n",
      "0           NaN  \n",
      "1    73938285.0  \n",
      "2    75349311.0  \n",
      "3    67482060.0  \n",
      "4    59006343.0  \n"
     ]
    }
   ],
   "source": [
    "import pandas as pd\n",
    "\n",
    "df = pd.read_csv('EDA_AAPL_mar2023_dec2024.csv')\n",
    "\n",
    "# Create lagged features for 'Close' price\n",
    "df['Close_Lag_1'] = df['Close'].shift(1)  # Yesterday's closing price\n",
    "df['Close_Lag_2'] = df['Close'].shift(2)  # Closing price from 2 days ago\n",
    "df['Volume_Lag_1'] = df['Volume'].shift(1)\n",
    "# Drop the first few rows that will have NaN values due to lagging\n",
    "print(df.head())\n"
   ]
  },
  {
   "cell_type": "code",
   "execution_count": 6,
   "id": "54c042f7-d274-4dfc-8725-c09b9e3b6485",
   "metadata": {},
   "outputs": [
    {
     "name": "stdout",
     "output_type": "stream",
     "text": [
      "   Unnamed: 0      Volume      VWAP    Open   Close      High     Low  \\\n",
      "0           0  73938285.0  158.3406  157.32  159.28  159.4000  156.54   \n",
      "1           1  75349311.0  159.6832  159.30  157.83  162.1400  157.81   \n",
      "2           2  67482060.0  159.5685  158.83  158.93  161.5501  157.68   \n",
      "3           3  59006343.0  159.2417  158.86  160.25  160.3400  157.85   \n",
      "4           4  52390266.0  159.0188  159.94  158.28  160.7700  157.87   \n",
      "\n",
      "   Num_Transactions            Timestamp  Close_Lag_1  Close_Lag_2  \\\n",
      "0            590982  2023-03-21 04:00:00          NaN          NaN   \n",
      "1            656865  2023-03-22 04:00:00       159.28          NaN   \n",
      "2            614268  2023-03-23 04:00:00       157.83       159.28   \n",
      "3            517531  2023-03-24 04:00:00       158.93       157.83   \n",
      "4            518436  2023-03-27 04:00:00       160.25       158.93   \n",
      "\n",
      "   Volume_Lag_1  Close_Rolling_Mean_7  Close_Rolling_Std_7  \\\n",
      "0           NaN                   NaN                  NaN   \n",
      "1    73938285.0                   NaN                  NaN   \n",
      "2    75349311.0                   NaN                  NaN   \n",
      "3    67482060.0                   NaN                  NaN   \n",
      "4    59006343.0                   NaN                  NaN   \n",
      "\n",
      "   Volume_Rolling_Mean_30  \n",
      "0                     NaN  \n",
      "1                     NaN  \n",
      "2                     NaN  \n",
      "3                     NaN  \n",
      "4                     NaN  \n"
     ]
    }
   ],
   "source": [
    "# Calculate rolling mean and standard deviation of 'Close' price\n",
    "df['Close_Rolling_Mean_7'] = df['Close'].rolling(window=7).mean()  # 7-day rolling mean\n",
    "df['Close_Rolling_Std_7'] = df['Close'].rolling(window=7).std()    # 7-day rolling std\n",
    "df['Volume_Rolling_Mean_30'] = df['Volume'].rolling(window=30).mean()\n",
    "print(df.head())"
   ]
  },
  {
   "cell_type": "code",
   "execution_count": null,
   "id": "c2bd5bf5-7ba4-487e-a4da-c27dca1e9837",
   "metadata": {},
   "outputs": [],
   "source": []
  },
  {
   "cell_type": "code",
   "execution_count": 8,
   "id": "83d8ef47-a22d-4bcc-bb23-dd0c5725ae3e",
   "metadata": {},
   "outputs": [
    {
     "name": "stdout",
     "output_type": "stream",
     "text": [
      "   Unnamed: 0      Volume      VWAP    Open   Close      High     Low  \\\n",
      "0           0  73938285.0  158.3406  157.32  159.28  159.4000  156.54   \n",
      "1           1  75349311.0  159.6832  159.30  157.83  162.1400  157.81   \n",
      "2           2  67482060.0  159.5685  158.83  158.93  161.5501  157.68   \n",
      "3           3  59006343.0  159.2417  158.86  160.25  160.3400  157.85   \n",
      "4           4  52390266.0  159.0188  159.94  158.28  160.7700  157.87   \n",
      "\n",
      "   Num_Transactions            Timestamp  Close_Lag_1  Close_Lag_2  \\\n",
      "0            590982  2023-03-21 04:00:00          NaN          NaN   \n",
      "1            656865  2023-03-22 04:00:00       159.28          NaN   \n",
      "2            614268  2023-03-23 04:00:00       157.83       159.28   \n",
      "3            517531  2023-03-24 04:00:00       158.93       157.83   \n",
      "4            518436  2023-03-27 04:00:00       160.25       158.93   \n",
      "\n",
      "   Volume_Lag_1  Close_Rolling_Mean_7  Close_Rolling_Std_7  \\\n",
      "0           NaN                   NaN                  NaN   \n",
      "1    73938285.0                   NaN                  NaN   \n",
      "2    75349311.0                   NaN                  NaN   \n",
      "3    67482060.0                   NaN                  NaN   \n",
      "4    59006343.0                   NaN                  NaN   \n",
      "\n",
      "   Volume_Rolling_Mean_30  Daily_Return  Volatility_30  \n",
      "0                     NaN           NaN            NaN  \n",
      "1                     NaN     -0.009103            NaN  \n",
      "2                     NaN      0.006970            NaN  \n",
      "3                     NaN      0.008306            NaN  \n",
      "4                     NaN     -0.012293            NaN  \n"
     ]
    }
   ],
   "source": [
    "\n",
    "# Calculate daily returns\n",
    "df['Daily_Return'] = (df['Close'] / df['Close'].shift(1)) - 1\n",
    "# Calculate rolling volatility (e.g., 30-day volatility)\n",
    "df['Volatility_30'] = df['Daily_Return'].rolling(window=30).std()\n",
    "print(df.head())"
   ]
  },
  {
   "cell_type": "code",
   "execution_count": null,
   "id": "91f7849f-7175-4fc9-9e05-d7913e5f2b74",
   "metadata": {},
   "outputs": [],
   "source": []
  },
  {
   "cell_type": "code",
   "execution_count": 9,
   "id": "cf56f5ae-7510-44eb-bc96-daf5f06f6473",
   "metadata": {},
   "outputs": [
    {
     "name": "stdout",
     "output_type": "stream",
     "text": [
      "   Unnamed: 0      Volume      VWAP    Open   Close      High     Low  \\\n",
      "0           0  73938285.0  158.3406  157.32  159.28  159.4000  156.54   \n",
      "1           1  75349311.0  159.6832  159.30  157.83  162.1400  157.81   \n",
      "2           2  67482060.0  159.5685  158.83  158.93  161.5501  157.68   \n",
      "3           3  59006343.0  159.2417  158.86  160.25  160.3400  157.85   \n",
      "4           4  52390266.0  159.0188  159.94  158.28  160.7700  157.87   \n",
      "\n",
      "   Num_Transactions            Timestamp  Close_Lag_1  Close_Lag_2  \\\n",
      "0            590982  2023-03-21 04:00:00          NaN          NaN   \n",
      "1            656865  2023-03-22 04:00:00       159.28          NaN   \n",
      "2            614268  2023-03-23 04:00:00       157.83       159.28   \n",
      "3            517531  2023-03-24 04:00:00       158.93       157.83   \n",
      "4            518436  2023-03-27 04:00:00       160.25       158.93   \n",
      "\n",
      "   Volume_Lag_1  Close_Rolling_Mean_7  Close_Rolling_Std_7  \\\n",
      "0           NaN                   NaN                  NaN   \n",
      "1    73938285.0                   NaN                  NaN   \n",
      "2    75349311.0                   NaN                  NaN   \n",
      "3    67482060.0                   NaN                  NaN   \n",
      "4    59006343.0                   NaN                  NaN   \n",
      "\n",
      "   Volume_Rolling_Mean_30  Daily_Return  Volatility_30  SMA_10  SMA_50  \n",
      "0                     NaN           NaN            NaN     NaN     NaN  \n",
      "1                     NaN     -0.009103            NaN     NaN     NaN  \n",
      "2                     NaN      0.006970            NaN     NaN     NaN  \n",
      "3                     NaN      0.008306            NaN     NaN     NaN  \n",
      "4                     NaN     -0.012293            NaN     NaN     NaN  \n"
     ]
    }
   ],
   "source": [
    "# Calculate the moving averages\n",
    "df['SMA_10'] = df['Close'].rolling(window=10).mean()\n",
    "df['SMA_50'] = df['Close'].rolling(window=50).mean()\n",
    "print(df.head())"
   ]
  },
  {
   "cell_type": "code",
   "execution_count": null,
   "id": "a9e1abca-af03-444c-86d8-6c772b909b91",
   "metadata": {},
   "outputs": [],
   "source": []
  },
  {
   "cell_type": "code",
   "execution_count": 12,
   "id": "dca79f21-04b8-4ce6-9f37-046f99f693c0",
   "metadata": {},
   "outputs": [
    {
     "name": "stdout",
     "output_type": "stream",
     "text": [
      "   Unnamed: 0      Volume      VWAP    Open   Close      High     Low  \\\n",
      "0           0  73938285.0  158.3406  157.32  159.28  159.4000  156.54   \n",
      "1           1  75349311.0  159.6832  159.30  157.83  162.1400  157.81   \n",
      "2           2  67482060.0  159.5685  158.83  158.93  161.5501  157.68   \n",
      "3           3  59006343.0  159.2417  158.86  160.25  160.3400  157.85   \n",
      "4           4  52390266.0  159.0188  159.94  158.28  160.7700  157.87   \n",
      "\n",
      "   Num_Transactions           Timestamp  Close_Lag_1  Close_Lag_2  \\\n",
      "0            590982 2023-03-21 04:00:00          NaN          NaN   \n",
      "1            656865 2023-03-22 04:00:00       159.28          NaN   \n",
      "2            614268 2023-03-23 04:00:00       157.83       159.28   \n",
      "3            517531 2023-03-24 04:00:00       158.93       157.83   \n",
      "4            518436 2023-03-27 04:00:00       160.25       158.93   \n",
      "\n",
      "   Volume_Lag_1  Close_Rolling_Mean_7  Close_Rolling_Std_7  \\\n",
      "0           NaN                   NaN                  NaN   \n",
      "1    73938285.0                   NaN                  NaN   \n",
      "2    75349311.0                   NaN                  NaN   \n",
      "3    67482060.0                   NaN                  NaN   \n",
      "4    59006343.0                   NaN                  NaN   \n",
      "\n",
      "   Volume_Rolling_Mean_30  Daily_Return  Volatility_30  SMA_10  SMA_50  \\\n",
      "0                     NaN           NaN            NaN     NaN     NaN   \n",
      "1                     NaN     -0.009103            NaN     NaN     NaN   \n",
      "2                     NaN      0.006970            NaN     NaN     NaN   \n",
      "3                     NaN      0.008306            NaN     NaN     NaN   \n",
      "4                     NaN     -0.012293            NaN     NaN     NaN   \n",
      "\n",
      "   Day_of_Week  \n",
      "0            1  \n",
      "1            2  \n",
      "2            3  \n",
      "3            4  \n",
      "4            0  \n"
     ]
    }
   ],
   "source": [
    "# Extract day of the week\n",
    "df['Timestamp'] = pd.to_datetime(df['Timestamp'])\n",
    "df['Day_of_Week'] = df['Timestamp'].dt.dayofweek\n",
    "print(df.head())\n"
   ]
  },
  {
   "cell_type": "code",
   "execution_count": null,
   "id": "82f1014a-2287-4427-bbef-9504614ef8ef",
   "metadata": {},
   "outputs": [],
   "source": []
  },
  {
   "cell_type": "code",
   "execution_count": null,
   "id": "182b3750-b685-4b48-951c-a8ce2d755057",
   "metadata": {},
   "outputs": [],
   "source": [
    "# Assess the Quality of Engineered Features"
   ]
  },
  {
   "cell_type": "code",
   "execution_count": 13,
   "id": "02d3d6b2-1276-472c-b18c-12b26d015e95",
   "metadata": {},
   "outputs": [
    {
     "name": "stdout",
     "output_type": "stream",
     "text": [
      "Close                     1.000000\n",
      "VWAP                      0.999531\n",
      "High                      0.998471\n",
      "Low                       0.998320\n",
      "Open                      0.996267\n",
      "Close_Lag_1               0.994375\n",
      "Close_Rolling_Mean_7      0.988733\n",
      "Close_Lag_2               0.987852\n",
      "SMA_10                    0.982793\n",
      "SMA_50                    0.893178\n",
      "Unnamed: 0                0.819463\n",
      "Timestamp                 0.819055\n",
      "Close_Rolling_Std_7       0.205869\n",
      "Daily_Return              0.072035\n",
      "Volatility_30             0.062719\n",
      "Day_of_Week              -0.006759\n",
      "Num_Transactions         -0.106638\n",
      "Volume_Lag_1             -0.184321\n",
      "Volume                   -0.187603\n",
      "Volume_Rolling_Mean_30   -0.451610\n",
      "Name: Close, dtype: float64\n"
     ]
    }
   ],
   "source": [
    "correlation_matrix = df.corr()\n",
    "target_correlation = correlation_matrix['Close'].sort_values(ascending=False)  # Assuming 'Close' is your target\n",
    "print(target_correlation)"
   ]
  },
  {
   "cell_type": "markdown",
   "id": "59e8cb0b-374c-4525-9470-a92cb126071b",
   "metadata": {},
   "source": [
    "-- Strong Positive Correlations:\n",
    "VWAP, High, Low, Open, Close_Lag_1, Close_Rolling_Mean_7, Close_Lag_2, SMA_10, and SMA_30 all show very strong positive correlations (above 0.94) with Close. This indicates that these features are highly linearly related to the closing price, which is what we want since we are trying to predict the closing price. These features are likely to be very useful for predicting Close.\n",
    "\n",
    "-- Moderate Positive Correlation:\n",
    "Timestamp has a moderate positive correlation (0.78) with Close. This suggests that there is a relationship between the date and the closing price, which we expect in a time series.\n",
    "\n",
    "-- Weak Correlations:\n",
    "Close_Rolling_Std_7, Daily_Return, and Volatility_30 have weak correlations (below 0.20) with Close. While these features might not be strong predictors on their own, they could still provide some valuable information to a model, especially in combination with other features.\n",
    "\n",
    "-- Negative Correlations:\n",
    "Num_Transactions, Volume_Lag_1, and Volume show weak negative correlations (around -0.20) with Close.\n",
    "Volumn_Rolling_Mean_30 has a moderate negative correlation (-0.475178) with Close. It indicates that as the 30-day rolling average of volume increases, the closing price tends to decrease. But the relationship is not very strong."
   ]
  },
  {
   "cell_type": "markdown",
   "id": "c7d268d2-1845-4262-81fc-bf3cd1be8170",
   "metadata": {},
   "source": [
    "-- Low correlation does not necessarily mean a feature is useless. It only measures linear relationships. A feature might have a non-linear relationship with the target variable, which correlation would not capture.\n",
    "\n",
    "-- Features can be useful in combination. Even if a feature has a weak correlation on its own, it might provide valuable information when combined with other features in a machine learning model."
   ]
  },
  {
   "cell_type": "code",
   "execution_count": null,
   "id": "fc6afd87-aa6a-4e8f-97c5-892c56cefc12",
   "metadata": {},
   "outputs": [],
   "source": []
  }
 ],
 "metadata": {
  "kernelspec": {
   "display_name": "Python 3 (ipykernel)",
   "language": "python",
   "name": "python3"
  },
  "language_info": {
   "codemirror_mode": {
    "name": "ipython",
    "version": 3
   },
   "file_extension": ".py",
   "mimetype": "text/x-python",
   "name": "python",
   "nbconvert_exporter": "python",
   "pygments_lexer": "ipython3",
   "version": "3.12.1"
  }
 },
 "nbformat": 4,
 "nbformat_minor": 5
}
